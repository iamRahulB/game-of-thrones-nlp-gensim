{
 "cells": [
  {
   "cell_type": "code",
   "execution_count": 1,
   "id": "162b9fae",
   "metadata": {
    "_cell_guid": "b1076dfc-b9ad-4769-8c92-a6c4dae69d19",
    "_uuid": "8f2839f25d086af736a60e9eeb907d3b93b6e0e5",
    "execution": {
     "iopub.execute_input": "2024-02-14T19:56:50.095540Z",
     "iopub.status.busy": "2024-02-14T19:56:50.094774Z",
     "iopub.status.idle": "2024-02-14T19:57:02.164459Z",
     "shell.execute_reply": "2024-02-14T19:57:02.163332Z"
    },
    "papermill": {
     "duration": 12.079924,
     "end_time": "2024-02-14T19:57:02.167404",
     "exception": false,
     "start_time": "2024-02-14T19:56:50.087480",
     "status": "completed"
    },
    "tags": []
   },
   "outputs": [],
   "source": [
    "import gensim\n",
    "import os\n",
    "from nltk import sent_tokenize\n",
    "from gensim.utils import simple_preprocess"
   ]
  },
  {
   "cell_type": "code",
   "execution_count": 2,
   "id": "34659218",
   "metadata": {
    "execution": {
     "iopub.execute_input": "2024-02-14T19:57:02.178120Z",
     "iopub.status.busy": "2024-02-14T19:57:02.177496Z",
     "iopub.status.idle": "2024-02-14T19:57:14.790268Z",
     "shell.execute_reply": "2024-02-14T19:57:14.789077Z"
    },
    "papermill": {
     "duration": 12.62193,
     "end_time": "2024-02-14T19:57:14.793937",
     "exception": false,
     "start_time": "2024-02-14T19:57:02.172007",
     "status": "completed"
    },
    "tags": []
   },
   "outputs": [],
   "source": [
    "story=[]\n",
    "path=\"/kaggle/input/game-of-thrones-books\"\n",
    "for file in os.listdir(path):\n",
    "    f=open(os.path.join(path,file), \"r\", encoding=\"latin-1\")\n",
    "    corpus=f.read()\n",
    "    raw_sent=sent_tokenize(corpus)\n",
    "    for sent in raw_sent:\n",
    "        story.append(simple_preprocess(sent))\n",
    "        "
   ]
  },
  {
   "cell_type": "code",
   "execution_count": 3,
   "id": "6e0d88a2",
   "metadata": {
    "execution": {
     "iopub.execute_input": "2024-02-14T19:57:14.808529Z",
     "iopub.status.busy": "2024-02-14T19:57:14.807313Z",
     "iopub.status.idle": "2024-02-14T19:57:14.812585Z",
     "shell.execute_reply": "2024-02-14T19:57:14.811576Z"
    },
    "papermill": {
     "duration": 0.014596,
     "end_time": "2024-02-14T19:57:14.814733",
     "exception": false,
     "start_time": "2024-02-14T19:57:14.800137",
     "status": "completed"
    },
    "tags": []
   },
   "outputs": [],
   "source": [
    "from gensim.models import Word2Vec\n",
    "\n"
   ]
  },
  {
   "cell_type": "code",
   "execution_count": 4,
   "id": "6e418a0c",
   "metadata": {
    "execution": {
     "iopub.execute_input": "2024-02-14T19:57:14.825866Z",
     "iopub.status.busy": "2024-02-14T19:57:14.825071Z",
     "iopub.status.idle": "2024-02-14T19:57:14.831399Z",
     "shell.execute_reply": "2024-02-14T19:57:14.830283Z"
    },
    "papermill": {
     "duration": 0.014878,
     "end_time": "2024-02-14T19:57:14.833907",
     "exception": false,
     "start_time": "2024-02-14T19:57:14.819029",
     "status": "completed"
    },
    "tags": []
   },
   "outputs": [],
   "source": [
    "model=Word2Vec(window=10,min_count=2)"
   ]
  },
  {
   "cell_type": "code",
   "execution_count": 5,
   "id": "0ab124cc",
   "metadata": {
    "execution": {
     "iopub.execute_input": "2024-02-14T19:57:14.845100Z",
     "iopub.status.busy": "2024-02-14T19:57:14.844388Z",
     "iopub.status.idle": "2024-02-14T19:57:15.951562Z",
     "shell.execute_reply": "2024-02-14T19:57:15.950180Z"
    },
    "papermill": {
     "duration": 1.115996,
     "end_time": "2024-02-14T19:57:15.954370",
     "exception": false,
     "start_time": "2024-02-14T19:57:14.838374",
     "status": "completed"
    },
    "tags": []
   },
   "outputs": [],
   "source": [
    "model.build_vocab(story)"
   ]
  },
  {
   "cell_type": "code",
   "execution_count": 6,
   "id": "2223380d",
   "metadata": {
    "execution": {
     "iopub.execute_input": "2024-02-14T19:57:15.964707Z",
     "iopub.status.busy": "2024-02-14T19:57:15.964286Z",
     "iopub.status.idle": "2024-02-14T19:57:24.633896Z",
     "shell.execute_reply": "2024-02-14T19:57:24.632780Z"
    },
    "papermill": {
     "duration": 8.677803,
     "end_time": "2024-02-14T19:57:24.636441",
     "exception": false,
     "start_time": "2024-02-14T19:57:15.958638",
     "status": "completed"
    },
    "tags": []
   },
   "outputs": [
    {
     "data": {
      "text/plain": [
       "(6569124, 8628190)"
      ]
     },
     "execution_count": 6,
     "metadata": {},
     "output_type": "execute_result"
    }
   ],
   "source": [
    "model.train(story,total_examples=model.corpus_count,epochs=model.epochs)"
   ]
  },
  {
   "cell_type": "code",
   "execution_count": 7,
   "id": "136982ae",
   "metadata": {
    "execution": {
     "iopub.execute_input": "2024-02-14T19:57:24.648021Z",
     "iopub.status.busy": "2024-02-14T19:57:24.647533Z",
     "iopub.status.idle": "2024-02-14T19:57:24.669313Z",
     "shell.execute_reply": "2024-02-14T19:57:24.667880Z"
    },
    "papermill": {
     "duration": 0.03236,
     "end_time": "2024-02-14T19:57:24.673493",
     "exception": false,
     "start_time": "2024-02-14T19:57:24.641133",
     "status": "completed"
    },
    "tags": []
   },
   "outputs": [
    {
     "data": {
      "text/plain": [
       "[('type', 0.9134291410446167),\n",
       " ('copyright', 0.8896104693412781),\n",
       " ('ryles', 0.8865339756011963),\n",
       " ('australia', 0.8826524615287781),\n",
       " ('various', 0.8814352750778198),\n",
       " ('spellsingers', 0.8789440989494324),\n",
       " ('merreq', 0.8782296776771545),\n",
       " ('treachery', 0.8764758706092834),\n",
       " ('states', 0.8759969472885132),\n",
       " ('isbn', 0.8759487271308899)]"
      ]
     },
     "execution_count": 7,
     "metadata": {},
     "output_type": "execute_result"
    }
   ],
   "source": [
    "model.wv.most_similar(\"author\")"
   ]
  },
  {
   "cell_type": "code",
   "execution_count": 8,
   "id": "84051810",
   "metadata": {
    "execution": {
     "iopub.execute_input": "2024-02-14T19:57:24.695646Z",
     "iopub.status.busy": "2024-02-14T19:57:24.694931Z",
     "iopub.status.idle": "2024-02-14T19:57:24.763226Z",
     "shell.execute_reply": "2024-02-14T19:57:24.761652Z"
    },
    "papermill": {
     "duration": 0.084098,
     "end_time": "2024-02-14T19:57:24.767706",
     "exception": false,
     "start_time": "2024-02-14T19:57:24.683608",
     "status": "completed"
    },
    "tags": []
   },
   "outputs": [],
   "source": [
    "model.save(\"word2vec_model.bin\")\n"
   ]
  },
  {
   "cell_type": "code",
   "execution_count": null,
   "id": "30e838c8",
   "metadata": {
    "papermill": {
     "duration": 0.005714,
     "end_time": "2024-02-14T19:57:24.783364",
     "exception": false,
     "start_time": "2024-02-14T19:57:24.777650",
     "status": "completed"
    },
    "tags": []
   },
   "outputs": [],
   "source": []
  },
  {
   "cell_type": "code",
   "execution_count": null,
   "id": "cf18d491",
   "metadata": {
    "papermill": {
     "duration": 0.004298,
     "end_time": "2024-02-14T19:57:24.792578",
     "exception": false,
     "start_time": "2024-02-14T19:57:24.788280",
     "status": "completed"
    },
    "tags": []
   },
   "outputs": [],
   "source": []
  },
  {
   "cell_type": "code",
   "execution_count": null,
   "id": "c806d70c",
   "metadata": {
    "papermill": {
     "duration": 0.004293,
     "end_time": "2024-02-14T19:57:24.801404",
     "exception": false,
     "start_time": "2024-02-14T19:57:24.797111",
     "status": "completed"
    },
    "tags": []
   },
   "outputs": [],
   "source": []
  }
 ],
 "metadata": {
  "kaggle": {
   "accelerator": "none",
   "dataSources": [
    {
     "datasetId": 118601,
     "sourceId": 284856,
     "sourceType": "datasetVersion"
    }
   ],
   "dockerImageVersionId": 30646,
   "isGpuEnabled": false,
   "isInternetEnabled": true,
   "language": "python",
   "sourceType": "notebook"
  },
  "kernelspec": {
   "display_name": "Python 3",
   "language": "python",
   "name": "python3"
  },
  "language_info": {
   "codemirror_mode": {
    "name": "ipython",
    "version": 3
   },
   "file_extension": ".py",
   "mimetype": "text/x-python",
   "name": "python",
   "nbconvert_exporter": "python",
   "pygments_lexer": "ipython3",
   "version": "3.10.13"
  },
  "papermill": {
   "default_parameters": {},
   "duration": 38.865125,
   "end_time": "2024-02-14T19:57:25.933005",
   "environment_variables": {},
   "exception": null,
   "input_path": "__notebook__.ipynb",
   "output_path": "__notebook__.ipynb",
   "parameters": {},
   "start_time": "2024-02-14T19:56:47.067880",
   "version": "2.5.0"
  }
 },
 "nbformat": 4,
 "nbformat_minor": 5
}
